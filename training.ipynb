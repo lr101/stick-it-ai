{
 "cells": [
  {
   "cell_type": "code",
   "execution_count": 1,
   "id": "bcd346dc",
   "metadata": {},
   "outputs": [
    {
     "name": "stdout",
     "output_type": "stream",
     "text": []
    }
   ],
   "source": [
    "import pandas as pd\n",
    "import torch\n",
    "import torch.nn as nn\n",
    "import torch.optim as optim\n",
    "from torch.utils.data import Dataset, DataLoader\n",
    "from torchvision import transforms\n",
    "from sklearn.preprocessing import LabelEncoder\n",
    "from sklearn.model_selection import train_test_split\n",
    "from PIL import Image\n",
    "import matplotlib.pyplot as plt\n",
    "import numpy as np\n",
    "import torchvision\n",
    "\n",
    "device = torch.device('cuda:0' if torch.cuda.is_available() else 'cpu')\n",
    "device"
   ]
  },
  {
   "cell_type": "code",
   "execution_count": null,
   "id": "0d96fb6b",
   "metadata": {},
   "outputs": [],
   "source": [
    "class PinGroupDataset(Dataset):\n",
    "    def __init__(self, data_frame, transform=None):\n",
    "        self.data = data_frame\n",
    "        self.transform = transform or transforms.Compose([\n",
    "            transforms.Resize((128, 128)),  # Resize images to 128x128\n",
    "            transforms.ToTensor()\n",
    "        ])\n",
    "\n",
    "    def __len__(self):\n",
    "        return len(self.data)\n",
    "\n",
    "    def __getitem__(self, idx):\n",
    "        img_path = self.data.iloc[idx, 0]\n",
    "        image = Image.open(img_path).convert(\"RGB\")\n",
    "        group_id = self.data.iloc[idx, 3]  # group_id\n",
    "\n",
    "        if self.transform:\n",
    "            image = self.transform(image)\n",
    "\n",
    "        return image, group_id"
   ]
  },
  {
   "cell_type": "code",
   "execution_count": 3,
   "id": "5e99aa0c",
   "metadata": {},
   "outputs": [],
   "source": [
    "# Load the dataset\n",
    "csv_file = 'annotated_data.csv'  \n",
    "full_dataset = pd.read_csv(csv_file)\n",
    "\n",
    "# Encode group_id to integers\n",
    "label_encoder = LabelEncoder()\n",
    "full_dataset['group_id'] = label_encoder.fit_transform(full_dataset['group_id'])\n",
    "\n",
    "# Split the dataset into training and validation sets\n",
    "train_data, val_data = train_test_split(full_dataset, test_size=0.2, random_state=42)\n",
    "\n",
    "# Create datasets for training and validation\n",
    "train_dataset = PinGroupDataset(data_frame=train_data)\n",
    "val_dataset = PinGroupDataset(data_frame=val_data)\n",
    "\n",
    "# Create data loaders\n",
    "train_loader = DataLoader(train_dataset, batch_size=16, shuffle=True)\n",
    "val_loader = DataLoader(val_dataset, batch_size=16, shuffle=False)\n"
   ]
  },
  {
   "cell_type": "code",
   "execution_count": 4,
   "id": "4734d75c",
   "metadata": {},
   "outputs": [
    {
     "name": "stdout",
     "output_type": "stream",
     "text": []
    },
    {
     "name": "stdout",
     "output_type": "stream",
     "text": []
    }
   ],
   "source": [
    "# Function to show an image\n",
    "def imshow(img):\n",
    "    img = img / 2 + 0.5  # unnormalize\n",
    "    npimg = img.numpy()\n",
    "    plt.imshow(np.transpose(npimg, (1, 2, 0)))\n",
    "    plt.axis('off')  # Hide axes\n",
    "    plt.show()\n",
    "\n",
    "# Get some random training images\n",
    "dataiter = iter(train_loader)\n",
    "images, labels = next(dataiter)\n",
    "\n",
    "# Show images\n",
    "imshow(torchvision.utils.make_grid(images))\n",
    "\n",
    "# Print labels\n",
    "# Convert labels to their original string representation\n",
    "classes = label_encoder.inverse_transform(labels.numpy())\n",
    "print(' '.join(f'{classes[j]:5s}' for j in range(len(classes))))"
   ]
  },
  {
   "cell_type": "code",
   "execution_count": 5,
   "id": "f71ed8db",
   "metadata": {},
   "outputs": [],
   "source": [
    "import torch\n",
    "import torch.nn as nn\n",
    "import torch.nn.functional as F\n",
    "\n",
    "class Net(nn.Module):\n",
    "    def __init__(self, num_classes=10):\n",
    "        super().__init__()\n",
    "        self.conv1 = nn.Conv2d(3, 8, kernel_size=3)  # Conv layer with 3x3 kernel, depth=8\n",
    "        self.conv2 = nn.Conv2d(8, 16, kernel_size=3)  # Conv layer with 3x3 kernel, depth=16\n",
    "        self.pool1 = nn.MaxPool2d(kernel_size=2)  # Max pooling with 2x2 kernel\n",
    "        self.conv3 = nn.Conv2d(16, 32, kernel_size=3)  # Conv layer with 3x3 kernel, depth=32\n",
    "        self.conv4 = nn.Conv2d(32, 64, kernel_size=3)  # Conv layer with 3x3 kernel, depth=64\n",
    "        self.pool2 = nn.MaxPool2d(kernel_size=2)  # Max pooling with 2x2 kernel\n",
    "        \n",
    "        # Calculate the output size after the conv layers\n",
    "        # Input size: 128x128\n",
    "        # After conv1: 126x126 (128 - 3 + 1)\n",
    "        # After conv2: 124x124 (126 - 3 + 1)\n",
    "        # After pool1: 62x62 (124 / 2)\n",
    "        # After conv3: 60x60 (62 - 3 + 1)\n",
    "        # After conv4: 58x58 (60 - 3 + 1)\n",
    "        # After pool2: 29x29 (58 / 2)\n",
    "        \n",
    "        self.fc1 = nn.Linear(64 * 29 * 29, 4096)  # Fully connected with 4096 nodes\n",
    "        self.fc2 = nn.Linear(4096, num_classes * 50)  # Fully connected with 1000 nodes\n",
    "        self.fc3 = nn.Linear(num_classes * 50, num_classes)  # Fully connected with 10 nodes\n",
    "\n",
    "    def forward(self, x):\n",
    "        x = F.relu(self.conv1(x))\n",
    "        x = F.relu(self.conv2(x))\n",
    "        x = self.pool1(x)\n",
    "        x = F.relu(self.conv3(x))\n",
    "        x = F.relu(self.conv4(x))\n",
    "        x = self.pool2(x)\n",
    "        x = torch.flatten(x, 1)  # Flatten all dimensions except batch\n",
    "        x = F.relu(self.fc1(x))\n",
    "        x = F.relu(self.fc2(x))\n",
    "        x = self.fc3(x)\n",
    "        return x\n"
   ]
  },
  {
   "cell_type": "code",
   "execution_count": null,
   "id": "e15576da",
   "metadata": {},
   "outputs": [
    {
     "name": "stdout",
     "output_type": "stream",
     "text": []
    }
   ],
   "source": [
    "\n",
    "\n",
    "import torch.optim as optim\n",
    "\n",
    "net = Net(num_classes=len(label_encoder.classes_)).to(device)\n",
    "criterion = nn.CrossEntropyLoss()\n",
    "optimizer = optim.SGD(net.parameters(), lr=0.001, momentum=0.9)\n",
    "\n",
    "\n",
    "\n",
    "for epoch in range(10):  # loop over the dataset multiple times\n",
    "\n",
    "    running_loss = 0.0\n",
    "    for i, data in enumerate(train_loader, 0):\n",
    "        # get the inputs; data is a list of [inputs, labels]\n",
    "        inputs, labels = data[0].to(device), data[1].to(device)\n",
    "\n",
    "        # zero the parameter gradients\n",
    "        optimizer.zero_grad()\n",
    "\n",
    "        # forward + backward + optimize\n",
    "        outputs = net(inputs)\n",
    "        loss = criterion(outputs, labels)\n",
    "        loss.backward()\n",
    "        optimizer.step()\n",
    "\n",
    "        # print statistics\n",
    "        loss = loss.item()\n",
    "       \n",
    "        print(f'[{epoch + 1}, {i + 1:5d}] loss: {loss:.3f}')\n",
    "        del inputs, labels, outputs, loss\n",
    "        torch.cuda.empty_cache()\n",
    "\n",
    "print('Finished Training')\n",
    "\n"
   ]
  },
  {
   "cell_type": "code",
   "execution_count": 18,
   "id": "be43a694",
   "metadata": {},
   "outputs": [
    {
     "name": "stdout",
     "output_type": "stream",
     "text": []
    },
    {
     "name": "stdout",
     "output_type": "stream",
     "text": []
    },
    {
     "name": "stdout",
     "output_type": "stream",
     "text": []
    },
    {
     "name": "stdout",
     "output_type": "stream",
     "text": []
    },
    {
     "name": "stdout",
     "output_type": "stream",
     "text": []
    },
    {
     "name": "stdout",
     "output_type": "stream",
     "text": []
    }
   ],
   "source": [
    "# Prepare to count predictions for each class and store one correct example\n",
    "classes = label_encoder.classes_\n",
    "correct_pred = {classname: 0 for classname in classes}\n",
    "total_pred = {classname: 0 for classname in classes}\n",
    "correct_examples = {classname: None for classname in classes}\n",
    "\n",
    "# Again, no gradients needed\n",
    "with torch.no_grad():\n",
    "    for i, data in enumerate(val_loader, 0):\n",
    "        inputs, labels = data[0].to(device), data[1].to(device)  # Move inputs and labels to the same device as the model\n",
    "        outputs = net(inputs)  # Use inputs instead of images\n",
    "        _, top3_predicted = torch.topk(outputs, 3, dim=1)  # Get top 3 predictions\n",
    "        for img, label, top3 in zip(inputs, labels, top3_predicted):\n",
    "            if label in top3:\n",
    "                correct_pred[classes[label]] += 1\n",
    "                # Store one correct example per class\n",
    "                if correct_examples[classes[label]] is None:\n",
    "                    correct_examples[classes[label]] = img.cpu()\n",
    "            total_pred[classes[label]] += 1\n",
    "\n",
    "# Print accuracy for each class\n",
    "for classname, correct_count in correct_pred.items():\n",
    "    if total_pred[classname] > 0:  # Avoid division by zero\n",
    "        accuracy = 100 * float(correct_count) / total_pred[classname]\n",
    "        print(f'Accuracy for class: {classname:5s} is {accuracy:.1f} %')\n",
    "    else:\n",
    "        print(f'Accuracy for class: {classname:5s} is N/A (no predictions)')\n",
    "\n",
    "# Show one correct image for each class\n",
    "for classname, img in correct_examples.items():\n",
    "    if img is not None:\n",
    "        print(f\"Correct example for class {classname}:\")\n",
    "        imshow(img)\n"
   ]
  }
 ],
 "metadata": {
  "kernelspec": {
   "display_name": "venv",
   "language": "python",
   "name": "python3"
  },
  "language_info": {
   "codemirror_mode": {
    "name": "ipython",
    "version": 3
   },
   "file_extension": ".py",
   "mimetype": "text/x-python",
   "name": "python",
   "nbconvert_exporter": "python",
   "pygments_lexer": "ipython3",
   "version": "3.13.2"
  }
 },
 "nbformat": 4,
 "nbformat_minor": 5
}
